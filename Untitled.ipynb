{
 "cells": [
  {
   "cell_type": "markdown",
   "id": "adf2c0fa-7e7c-4dc2-ae3e-ec7de9182c76",
   "metadata": {},
   "source": [
    "# Monte Carlo simulation"
   ]
  },
  {
   "cell_type": "markdown",
   "id": "4ece3bda-afec-492b-bed7-16e9ae293ef6",
   "metadata": {},
   "source": [
    "## Website used for reference: https://www.investopedia.com/terms/m/montecarlosimulation.asp"
   ]
  },
  {
   "cell_type": "code",
   "execution_count": 58,
   "id": "757e41ce-70bb-4188-9cc3-bd6b9e321df8",
   "metadata": {
    "tags": []
   },
   "outputs": [],
   "source": [
    "import pandas as pd\n",
    "import numpy as np\n",
    "from scipy.stats import norm\n",
    "import matplotlib.pyplot as plt\n",
    "import random\n",
    "\n",
    "import warnings\n",
    "warnings.filterwarnings(\"ignore\")\n"
   ]
  },
  {
   "cell_type": "code",
   "execution_count": 59,
   "id": "011983a1-f7ec-40b9-9143-17318c6ebe9c",
   "metadata": {
    "tags": []
   },
   "outputs": [],
   "source": [
    "df = pd.read_csv('./Resources/AAPL.csv')\n",
    "df['Date'] = pd.to_datetime(df['Date']).dt.date\n",
    "df.set_index(['Date'], inplace = True)"
   ]
  },
  {
   "cell_type": "code",
   "execution_count": 60,
   "id": "571c6f69-22a8-4246-96a5-ce54a85a91d0",
   "metadata": {
    "tags": []
   },
   "outputs": [
    {
     "data": {
      "text/html": [
       "<div>\n",
       "<style scoped>\n",
       "    .dataframe tbody tr th:only-of-type {\n",
       "        vertical-align: middle;\n",
       "    }\n",
       "\n",
       "    .dataframe tbody tr th {\n",
       "        vertical-align: top;\n",
       "    }\n",
       "\n",
       "    .dataframe thead th {\n",
       "        text-align: right;\n",
       "    }\n",
       "</style>\n",
       "<table border=\"1\" class=\"dataframe\">\n",
       "  <thead>\n",
       "    <tr style=\"text-align: right;\">\n",
       "      <th></th>\n",
       "      <th>Close</th>\n",
       "    </tr>\n",
       "    <tr>\n",
       "      <th>Date</th>\n",
       "      <th></th>\n",
       "    </tr>\n",
       "  </thead>\n",
       "  <tbody>\n",
       "    <tr>\n",
       "      <th>2017-01-03</th>\n",
       "      <td>29.04</td>\n",
       "    </tr>\n",
       "    <tr>\n",
       "      <th>2017-01-04</th>\n",
       "      <td>29.01</td>\n",
       "    </tr>\n",
       "    <tr>\n",
       "      <th>2017-01-05</th>\n",
       "      <td>29.15</td>\n",
       "    </tr>\n",
       "    <tr>\n",
       "      <th>2017-01-06</th>\n",
       "      <td>29.48</td>\n",
       "    </tr>\n",
       "    <tr>\n",
       "      <th>2017-01-09</th>\n",
       "      <td>29.75</td>\n",
       "    </tr>\n",
       "  </tbody>\n",
       "</table>\n",
       "</div>"
      ],
      "text/plain": [
       "            Close\n",
       "Date             \n",
       "2017-01-03  29.04\n",
       "2017-01-04  29.01\n",
       "2017-01-05  29.15\n",
       "2017-01-06  29.48\n",
       "2017-01-09  29.75"
      ]
     },
     "execution_count": 60,
     "metadata": {},
     "output_type": "execute_result"
    }
   ],
   "source": [
    "df.head()"
   ]
  },
  {
   "cell_type": "markdown",
   "id": "ebce5982-8097-49f0-9834-f7fb72232460",
   "metadata": {},
   "source": [
    "## Step 1: calculate periodic daily return\n",
    "\n",
    "Periodic daily return = ln(day's price / previous day's price)"
   ]
  },
  {
   "cell_type": "code",
   "execution_count": 61,
   "id": "3c03ff5d-7f82-4c40-a3da-e8799aab63af",
   "metadata": {
    "tags": []
   },
   "outputs": [
    {
     "data": {
      "text/html": [
       "<div>\n",
       "<style scoped>\n",
       "    .dataframe tbody tr th:only-of-type {\n",
       "        vertical-align: middle;\n",
       "    }\n",
       "\n",
       "    .dataframe tbody tr th {\n",
       "        vertical-align: top;\n",
       "    }\n",
       "\n",
       "    .dataframe thead th {\n",
       "        text-align: right;\n",
       "    }\n",
       "</style>\n",
       "<table border=\"1\" class=\"dataframe\">\n",
       "  <thead>\n",
       "    <tr style=\"text-align: right;\">\n",
       "      <th></th>\n",
       "      <th>Close</th>\n",
       "      <th>previous_day</th>\n",
       "      <th>daily_return</th>\n",
       "    </tr>\n",
       "    <tr>\n",
       "      <th>Date</th>\n",
       "      <th></th>\n",
       "      <th></th>\n",
       "      <th></th>\n",
       "    </tr>\n",
       "  </thead>\n",
       "  <tbody>\n",
       "    <tr>\n",
       "      <th>2017-01-04</th>\n",
       "      <td>29.01</td>\n",
       "      <td>29.04</td>\n",
       "      <td>-0.001034</td>\n",
       "    </tr>\n",
       "    <tr>\n",
       "      <th>2017-01-05</th>\n",
       "      <td>29.15</td>\n",
       "      <td>29.01</td>\n",
       "      <td>0.004814</td>\n",
       "    </tr>\n",
       "    <tr>\n",
       "      <th>2017-01-06</th>\n",
       "      <td>29.48</td>\n",
       "      <td>29.15</td>\n",
       "      <td>0.011257</td>\n",
       "    </tr>\n",
       "    <tr>\n",
       "      <th>2017-01-09</th>\n",
       "      <td>29.75</td>\n",
       "      <td>29.48</td>\n",
       "      <td>0.009117</td>\n",
       "    </tr>\n",
       "    <tr>\n",
       "      <th>2017-01-10</th>\n",
       "      <td>29.78</td>\n",
       "      <td>29.75</td>\n",
       "      <td>0.001008</td>\n",
       "    </tr>\n",
       "  </tbody>\n",
       "</table>\n",
       "</div>"
      ],
      "text/plain": [
       "            Close  previous_day  daily_return\n",
       "Date                                         \n",
       "2017-01-04  29.01         29.04     -0.001034\n",
       "2017-01-05  29.15         29.01      0.004814\n",
       "2017-01-06  29.48         29.15      0.011257\n",
       "2017-01-09  29.75         29.48      0.009117\n",
       "2017-01-10  29.78         29.75      0.001008"
      ]
     },
     "execution_count": 61,
     "metadata": {},
     "output_type": "execute_result"
    }
   ],
   "source": [
    "df['previous_day'] = df.shift(1)\n",
    "df['daily_return'] = np.log(df['Close'] / df['previous_day'])\n",
    "df.dropna(inplace = True)\n",
    "df.head()"
   ]
  },
  {
   "cell_type": "markdown",
   "id": "917b23aa-d958-45cc-8ec1-a6c8e192aa53",
   "metadata": {},
   "source": [
    "## Step 2: calculate drift\n",
    "\n",
    "Drift = Average daily return - (Variance / 2)"
   ]
  },
  {
   "cell_type": "code",
   "execution_count": 62,
   "id": "78cae368-50c2-4aca-aba2-7390e9ae9e43",
   "metadata": {
    "tags": []
   },
   "outputs": [
    {
     "data": {
      "text/plain": [
       "0.0008946776468850962"
      ]
     },
     "execution_count": 62,
     "metadata": {},
     "output_type": "execute_result"
    }
   ],
   "source": [
    "drift = df['daily_return'].mean() - (df['daily_return'].var() / 2)\n",
    "drift"
   ]
  },
  {
   "cell_type": "markdown",
   "id": "d89f5547-1b1e-4cc9-b0e9-5d92e6c43286",
   "metadata": {
    "tags": []
   },
   "source": [
    "## Step 3: calculate random value and next day's price\n",
    "\n",
    "Random value = Stdev * stats.norm.ppf(random.random())\n",
    "\n",
    "Next day's price = Today's price * e^(drift + random value)"
   ]
  },
  {
   "cell_type": "code",
   "execution_count": 66,
   "id": "1c9792c9-2ac1-4193-aff4-1bd9333ce24d",
   "metadata": {
    "tags": []
   },
   "outputs": [],
   "source": [
    "def random_value_fn(df):\n",
    "    random_value = df['daily_return'].std() * norm.ppf(random.random())\n",
    "    return random_value"
   ]
  },
  {
   "cell_type": "code",
   "execution_count": 68,
   "id": "ed55442e-4341-4274-b0b4-7de69fdcc97d",
   "metadata": {
    "tags": []
   },
   "outputs": [
    {
     "data": {
      "text/plain": [
       "0.011767401747210386"
      ]
     },
     "execution_count": 68,
     "metadata": {},
     "output_type": "execute_result"
    }
   ],
   "source": [
    "random_value_fn(df)"
   ]
  },
  {
   "cell_type": "code",
   "execution_count": 69,
   "id": "6820cb78-c75d-4ec9-b697-a40a5074e895",
   "metadata": {
    "tags": []
   },
   "outputs": [
    {
     "data": {
      "text/plain": [
       "52.67555459108551"
      ]
     },
     "execution_count": 69,
     "metadata": {},
     "output_type": "execute_result"
    }
   ],
   "source": [
    "today_price = df['Close'][-1]\n",
    "next_day_price = today_price * np.exp(drift + random_value)\n",
    "next_day_price"
   ]
  },
  {
   "cell_type": "code",
   "execution_count": 78,
   "id": "ff58ef91-65cb-4fca-ba3e-c3ad11898d74",
   "metadata": {
    "tags": []
   },
   "outputs": [],
   "source": [
    "lst = []\n",
    "for i in range(100000):\n",
    "    value = random_value_fn(df)\n",
    "    next_day_price = today_price * np.exp(drift + value)\n",
    "    lst.append(next_day_price)"
   ]
  },
  {
   "cell_type": "code",
   "execution_count": 79,
   "id": "07cd831a-8476-42d4-952e-d4ac2fa9cdd2",
   "metadata": {
    "tags": []
   },
   "outputs": [
    {
     "data": {
      "text/plain": [
       "(array([5.0000e+00, 1.9200e+02, 2.0940e+03, 1.1169e+04, 2.7679e+04,\n",
       "        3.2727e+04, 1.9368e+04, 5.7870e+03, 9.1600e+02, 6.3000e+01]),\n",
       " array([48.90340447, 49.62117771, 50.33895096, 51.0567242 , 51.77449744,\n",
       "        52.49227069, 53.21004393, 53.92781717, 54.64559042, 55.36336366,\n",
       "        56.08113691]),\n",
       " <BarContainer object of 10 artists>)"
      ]
     },
     "execution_count": 79,
     "metadata": {},
     "output_type": "execute_result"
    },
    {
     "data": {
      "image/png": "[encoded data removed]",
      "text/plain": [
       "<Figure size 640x480 with 1 Axes>"
      ]
     },
     "metadata": {},
     "output_type": "display_data"
    }
   ],
   "source": [
    "plt.hist(lst)"
   ]
  },
  {
   "cell_type": "code",
   "execution_count": null,
   "id": "8e101c3f-e041-417e-82f0-ecf0021c1e7c",
   "metadata": {},
   "outputs": [],
   "source": []
  }
 ],
 "metadata": {
  "kernelspec": {
   "display_name": "Python 3 (ipykernel)",
   "language": "python",
   "name": "python3"
  },
  "language_info": {
   "codemirror_mode": {
    "name": "ipython",
    "version": 3
   },
   "file_extension": ".py",
   "mimetype": "text/x-python",
   "name": "python",
   "nbconvert_exporter": "python",
   "pygments_lexer": "ipython3",
   "version": "3.11.5"
  }
 },
 "nbformat": 4,
 "nbformat_minor": 5
}
